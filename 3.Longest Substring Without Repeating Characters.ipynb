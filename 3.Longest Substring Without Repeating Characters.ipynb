{
 "cells": [
  {
   "cell_type": "code",
   "execution_count": 6,
   "metadata": {},
   "outputs": [],
   "source": [
    "class Solution(object):\n",
    "    def lengthOfLongestSubstring(self, s):\n",
    "        if len(s) == 0:\n",
    "            return 0\n",
    "        \n",
    "        seen = {}\n",
    "        start = 0\n",
    "        longest_len = 0\n",
    "        \n",
    "        for index, char in enumerate(s):\n",
    "            if char in seen and start <= seen[char]:\n",
    "                start = seen[char] + 1\n",
    "\n",
    "            seen[char] = index\n",
    "            longest_len = max(longest_len, index - start + 1)\n",
    "            \n",
    "            #print(longest_len)\n",
    "        return longest_len"
   ]
  },
  {
   "cell_type": "code",
   "execution_count": null,
   "metadata": {
    "collapsed": true
   },
   "outputs": [],
   "source": []
  }
 ],
 "metadata": {
  "kernelspec": {
   "display_name": "Python 3",
   "language": "python",
   "name": "python3"
  },
  "language_info": {
   "codemirror_mode": {
    "name": "ipython",
    "version": 3
   },
   "file_extension": ".py",
   "mimetype": "text/x-python",
   "name": "python",
   "nbconvert_exporter": "python",
   "pygments_lexer": "ipython3",
   "version": "3.6.0"
  }
 },
 "nbformat": 4,
 "nbformat_minor": 2
}
