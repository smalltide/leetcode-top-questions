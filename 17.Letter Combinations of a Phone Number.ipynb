{
 "cells": [
  {
   "cell_type": "code",
   "execution_count": 66,
   "metadata": {},
   "outputs": [],
   "source": [
    "class Solution(object):\n",
    "    def letterCombinations(self, digits):\n",
    "        results = []\n",
    "        chars = { \n",
    "            \"0\": \" \", \"1\": \"*\", \"2\": \"abc\", \"3\": \"def\",\n",
    "            \"4\": \"ghi\", \"5\": \"jkl\" , \"6\": \"mno\", \"7\": \"pqrs\",\n",
    "            \"8\": \"tuv\", \"9\": \"wxyz\"\n",
    "        }\n",
    "        \n",
    "        digits_len = len(digits)\n",
    "        \n",
    "        if digits_len == 0:\n",
    "            return results\n",
    "        \n",
    "        if digits_len >= 1:\n",
    "            for char in chars[digits[0]]:\n",
    "                results.append(char)  \n",
    "        \n",
    "        for index, num in enumerate(digits[1:]):\n",
    "            temp_results = []\n",
    "            for char in chars[num]:\n",
    "                for result in results:\n",
    "                    result += char\n",
    "                    temp_results.append(result)\n",
    "            results = temp_results\n",
    "            \n",
    "        return results        "
   ]
  },
  {
   "cell_type": "code",
   "execution_count": 67,
   "metadata": {},
   "outputs": [
    {
     "data": {
      "text/plain": [
       "['*adg ',\n",
       " '*bdg ',\n",
       " '*cdg ',\n",
       " '*aeg ',\n",
       " '*beg ',\n",
       " '*ceg ',\n",
       " '*afg ',\n",
       " '*bfg ',\n",
       " '*cfg ',\n",
       " '*adh ',\n",
       " '*bdh ',\n",
       " '*cdh ',\n",
       " '*aeh ',\n",
       " '*beh ',\n",
       " '*ceh ',\n",
       " '*afh ',\n",
       " '*bfh ',\n",
       " '*cfh ',\n",
       " '*adi ',\n",
       " '*bdi ',\n",
       " '*cdi ',\n",
       " '*aei ',\n",
       " '*bei ',\n",
       " '*cei ',\n",
       " '*afi ',\n",
       " '*bfi ',\n",
       " '*cfi ']"
      ]
     },
     "execution_count": 67,
     "metadata": {},
     "output_type": "execute_result"
    }
   ],
   "source": [
    "s = Solution()\n",
    "s.letterCombinations(\"12340\")"
   ]
  },
  {
   "cell_type": "code",
   "execution_count": null,
   "metadata": {
    "collapsed": true
   },
   "outputs": [],
   "source": []
  }
 ],
 "metadata": {
  "kernelspec": {
   "display_name": "Python 3",
   "language": "python",
   "name": "python3"
  },
  "language_info": {
   "codemirror_mode": {
    "name": "ipython",
    "version": 3
   },
   "file_extension": ".py",
   "mimetype": "text/x-python",
   "name": "python",
   "nbconvert_exporter": "python",
   "pygments_lexer": "ipython3",
   "version": "3.6.0"
  }
 },
 "nbformat": 4,
 "nbformat_minor": 2
}
