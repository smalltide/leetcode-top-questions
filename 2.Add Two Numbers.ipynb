{
 "cells": [
  {
   "cell_type": "code",
   "execution_count": 2,
   "metadata": {
    "collapsed": true
   },
   "outputs": [],
   "source": [
    "# Definition for singly-linked list.\n",
    "# class ListNode(object):\n",
    "#     def __init__(self, x):\n",
    "#         self.val = x\n",
    "#         self.next = None\n",
    "\n",
    "class Solution(object):\n",
    "    def addTwoNumbers(self, l1, l2):\n",
    "        sum_list = None\n",
    "        start_node = [0]\n",
    "        sum_all = 0\n",
    "        \n",
    "        sum_l1 = l1.val\n",
    "        multi_l1 = 1\n",
    "        \n",
    "        sum_l2 = l2.val\n",
    "        multi_l2 = 1\n",
    "        \n",
    "        while l1.next or l2.next:\n",
    "            if l1.next:\n",
    "                l1 = l1.next\n",
    "                multi_l1 *= 10\n",
    "                sum_l1 = sum_l1 + l1.val * multi_l1\n",
    "                \n",
    "            if l2.next:\n",
    "                l2 = l2.next\n",
    "                multi_l2 *= 10\n",
    "                sum_l2 = sum_l2 + l2.val * multi_l2\n",
    "            \n",
    "        sum_all = sum_l1 + sum_l2\n",
    "        \n",
    "        while sum_all > 0:\n",
    "            num = sum_all % 10\n",
    "            if not sum_list:\n",
    "                sum_list = ListNode(num)\n",
    "                start_node = sum_list\n",
    "            else:\n",
    "                sum_list.next = ListNode(num)\n",
    "                sum_list = sum_list.next\n",
    "            sum_all //= 10\n",
    "        \n",
    "        return start_node"
   ]
  },
  {
   "cell_type": "code",
   "execution_count": null,
   "metadata": {
    "collapsed": true
   },
   "outputs": [],
   "source": []
  }
 ],
 "metadata": {
  "kernelspec": {
   "display_name": "Python 3",
   "language": "python",
   "name": "python3"
  },
  "language_info": {
   "codemirror_mode": {
    "name": "ipython",
    "version": 3
   },
   "file_extension": ".py",
   "mimetype": "text/x-python",
   "name": "python",
   "nbconvert_exporter": "python",
   "pygments_lexer": "ipython3",
   "version": "3.6.0"
  }
 },
 "nbformat": 4,
 "nbformat_minor": 2
}
