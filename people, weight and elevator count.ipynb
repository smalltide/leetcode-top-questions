{
 "cells": [
  {
   "cell_type": "code",
   "execution_count": 1,
   "metadata": {
    "collapsed": true
   },
   "outputs": [],
   "source": [
    "def solution(A, B, M, X, Y):  \n",
    "    count = 0\n",
    "    t_n = 0\n",
    "    t_w = 0\n",
    "    floors = set()\n",
    "    \n",
    "    while len(A) > 0:\n",
    "        if t_n + 1 <= X and t_w + A[0] <= Y:\n",
    "            t_w += A[0]\n",
    "            t_n += 1\n",
    "            A.pop(0) \n",
    "            floors.add(B.pop(0))\n",
    "            if len(A) == 0:\n",
    "                count += len(floors)\n",
    "                count += 1\n",
    "                t_n, t_w = 0, 0\n",
    "                floors = set()\n",
    "        else:\n",
    "            #print(floors)\n",
    "            #print(A)\n",
    "            count += len(floors)\n",
    "            count += 1\n",
    "            t_n, t_w = 0, 0\n",
    "            floors = set()\n",
    "            \n",
    "    return count  "
   ]
  }
 ],
 "metadata": {
  "kernelspec": {
   "display_name": "Python 3",
   "language": "python",
   "name": "python3"
  },
  "language_info": {
   "codemirror_mode": {
    "name": "ipython",
    "version": 3
   },
   "file_extension": ".py",
   "mimetype": "text/x-python",
   "name": "python",
   "nbconvert_exporter": "python",
   "pygments_lexer": "ipython3",
   "version": "3.6.0"
  }
 },
 "nbformat": 4,
 "nbformat_minor": 2
}
