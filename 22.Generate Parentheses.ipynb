{
 "cells": [
  {
   "cell_type": "code",
   "execution_count": 174,
   "metadata": {},
   "outputs": [],
   "source": [
    "class Solution(object):\n",
    "    def generateParenthesis(self, n):\n",
    "        results = []\n",
    "        self.generate(\"\", 0, 0, n, results)\n",
    "        return results\n",
    "    \n",
    "    def generate(self, result ,left, right, number, results):\n",
    "        if len(result) == number * 2:\n",
    "            results.append(result)\n",
    "            return results\n",
    "        \n",
    "        if left < number:\n",
    "            self.generate(result + \"(\", left + 1, right, number, results)\n",
    "        \n",
    "        if right < left:\n",
    "            self.generate(result + \")\", left, right + 1, number, results)\n",
    "        "
   ]
  },
  {
   "cell_type": "code",
   "execution_count": 175,
   "metadata": {},
   "outputs": [
    {
     "data": {
      "text/plain": [
       "['((()))', '(()())', '(())()', '()(())', '()()()']"
      ]
     },
     "execution_count": 175,
     "metadata": {},
     "output_type": "execute_result"
    }
   ],
   "source": [
    "s = Solution()\n",
    "s.generateParenthesis(3)"
   ]
  },
  {
   "cell_type": "code",
   "execution_count": null,
   "metadata": {
    "collapsed": true
   },
   "outputs": [],
   "source": []
  }
 ],
 "metadata": {
  "kernelspec": {
   "display_name": "Python 3",
   "language": "python",
   "name": "python3"
  },
  "language_info": {
   "codemirror_mode": {
    "name": "ipython",
    "version": 3
   },
   "file_extension": ".py",
   "mimetype": "text/x-python",
   "name": "python",
   "nbconvert_exporter": "python",
   "pygments_lexer": "ipython3",
   "version": "3.6.0"
  }
 },
 "nbformat": 4,
 "nbformat_minor": 2
}
