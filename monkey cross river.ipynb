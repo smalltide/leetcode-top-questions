{
 "cells": [
  {
   "cell_type": "code",
   "execution_count": 1,
   "metadata": {
    "collapsed": true
   },
   "outputs": [],
   "source": [
    "# you can write to stdout for debugging purposes, e.g.\n",
    "# print \"this is a debug message\"\n",
    "\n",
    "def solution(A, D):\n",
    "    count = 0\n",
    "    distance = len(A) + 1\n",
    "    stones = {}\n",
    "    \n",
    "    if D >= distance:\n",
    "        return 0\n",
    "    \n",
    "    for index, num in enumerate(A):\n",
    "        stones[num] = index\n",
    "    \n",
    "    index = 0\n",
    "    while(distance > 0):\n",
    "        distance -= stones[index]\n",
    "        distance -=D\n",
    "        \n",
    "        if distance\n",
    "        \n",
    "        index += 1\n",
    "        count += 1\n",
    "        \n",
    "    \n",
    "    return count"
   ]
  },
  {
   "cell_type": "code",
   "execution_count": 3,
   "metadata": {},
   "outputs": [
    {
     "data": {
      "text/plain": [
       "{-1: 1, 0: 2, 1: 0, 2: 3, 3: 4, 5: 5}"
      ]
     },
     "execution_count": 3,
     "metadata": {},
     "output_type": "execute_result"
    }
   ],
   "source": [
    "stones = {}\n",
    "for index, num in enumerate([1,-1,0,2,3,5]):\n",
    "        stones[num] = index\n",
    "stones"
   ]
  },
  {
   "cell_type": "code",
   "execution_count": null,
   "metadata": {
    "collapsed": true
   },
   "outputs": [],
   "source": []
  }
 ],
 "metadata": {
  "kernelspec": {
   "display_name": "Python 3",
   "language": "python",
   "name": "python3"
  },
  "language_info": {
   "codemirror_mode": {
    "name": "ipython",
    "version": 3
   },
   "file_extension": ".py",
   "mimetype": "text/x-python",
   "name": "python",
   "nbconvert_exporter": "python",
   "pygments_lexer": "ipython3",
   "version": "3.6.0"
  }
 },
 "nbformat": 4,
 "nbformat_minor": 2
}
