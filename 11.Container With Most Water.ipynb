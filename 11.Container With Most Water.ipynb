{
 "cells": [
  {
   "cell_type": "code",
   "execution_count": 100,
   "metadata": {},
   "outputs": [],
   "source": [
    "class Solution(object):\n",
    "    def maxArea(self, height):\n",
    "        maxArea = 0\n",
    "        x = 0\n",
    "        x2 = len(height) - 1\n",
    "\n",
    "        while(x < x2):\n",
    "            H = min(height[x], height[x2])\n",
    "            W = x2 - x\n",
    "            \n",
    "            maxArea = max(maxArea, H * W)\n",
    "            \n",
    "            while(x < x2 and height[x] <= H):\n",
    "                x += 1\n",
    "            \n",
    "            while(x < x2 and height[x2] <= H):\n",
    "                x2 -= 1\n",
    "                \n",
    "        return maxArea\n",
    "    "
   ]
  },
  {
   "cell_type": "code",
   "execution_count": 101,
   "metadata": {},
   "outputs": [
    {
     "data": {
      "text/plain": [
       "80"
      ]
     },
     "execution_count": 101,
     "metadata": {},
     "output_type": "execute_result"
    }
   ],
   "source": [
    "s = Solution()\n",
    "height = [10,10, 20, 20, 1000, 20, 20, 10, 10]\n",
    "a = s.maxArea(height);\n",
    "a"
   ]
  },
  {
   "cell_type": "code",
   "execution_count": null,
   "metadata": {
    "collapsed": true
   },
   "outputs": [],
   "source": []
  }
 ],
 "metadata": {
  "kernelspec": {
   "display_name": "Python 3",
   "language": "python",
   "name": "python3"
  },
  "language_info": {
   "codemirror_mode": {
    "name": "ipython",
    "version": 3
   },
   "file_extension": ".py",
   "mimetype": "text/x-python",
   "name": "python",
   "nbconvert_exporter": "python",
   "pygments_lexer": "ipython3",
   "version": "3.6.0"
  }
 },
 "nbformat": 4,
 "nbformat_minor": 2
}
