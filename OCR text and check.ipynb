{
 "cells": [
  {
   "cell_type": "code",
   "execution_count": 59,
   "metadata": {},
   "outputs": [],
   "source": [
    "def solution(S, T):\n",
    "    s_string = \"\"\n",
    "    t_string = \"\"\n",
    "    \n",
    "    s_string = num2star(S)\n",
    "    t_string = num2star(T)\n",
    "    \n",
    "    if len(s_string) != len(t_string):\n",
    "        return False\n",
    "    \n",
    "    for s, t in zip(s_string, t_string):\n",
    "        if s != t and s != \"*\" and t != \"*\":\n",
    "            return False\n",
    "    \n",
    "    return True\n",
    "    \n",
    "\n",
    "def num2star(string):\n",
    "    s_string = \"\"\n",
    "    num_str = \"\"\n",
    "    \n",
    "    for s in string:\n",
    "        if not s.isdigit():\n",
    "            if num_str:\n",
    "                s_string += \"*\" * int(num_str)\n",
    "                num_str = \"\"\n",
    "            s_string += s\n",
    "        else:\n",
    "            num_str += s\n",
    "            \n",
    "    if num_str:\n",
    "        s_string += \"*\" * int(num_str)\n",
    "            \n",
    "    return s_string"
   ]
  },
  {
   "cell_type": "code",
   "execution_count": 74,
   "metadata": {},
   "outputs": [
    {
     "data": {
      "text/plain": [
       "True"
      ]
     },
     "execution_count": 74,
     "metadata": {},
     "output_type": "execute_result"
    }
   ],
   "source": [
    "S = \"a3x2\"\n",
    "T = \"a6\" \n",
    "solution(S, T)"
   ]
  },
  {
   "cell_type": "code",
   "execution_count": null,
   "metadata": {
    "collapsed": true
   },
   "outputs": [],
   "source": []
  }
 ],
 "metadata": {
  "kernelspec": {
   "display_name": "Python 3",
   "language": "python",
   "name": "python3"
  },
  "language_info": {
   "codemirror_mode": {
    "name": "ipython",
    "version": 3
   },
   "file_extension": ".py",
   "mimetype": "text/x-python",
   "name": "python",
   "nbconvert_exporter": "python",
   "pygments_lexer": "ipython3",
   "version": "3.6.0"
  }
 },
 "nbformat": 4,
 "nbformat_minor": 2
}
