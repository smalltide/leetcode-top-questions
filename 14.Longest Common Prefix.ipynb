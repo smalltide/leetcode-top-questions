{
 "cells": [
  {
   "cell_type": "code",
   "execution_count": 231,
   "metadata": {},
   "outputs": [],
   "source": [
    "class Solution(object):\n",
    "    def longestCommonPrefix(self, strs):\n",
    "        if len(strs) == 0:\n",
    "            return \"\"\n",
    "        \n",
    "        if len(strs) == 1:\n",
    "            return strs[0]\n",
    "        \n",
    "        common_str = \"\"\n",
    "        \n",
    "        min_string_len = len(strs[0])\n",
    "       \n",
    "        for string in strs:\n",
    "            min_string_len = min(min_string_len, len(string))\n",
    "        \n",
    "        index = 0\n",
    "        while(index < min_string_len):\n",
    "            char = strs[0][index]\n",
    "            for string in strs:\n",
    "                if char != string[index]:\n",
    "                    return common_str\n",
    "                \n",
    "            common_str += string[index]\n",
    "            index += 1\n",
    "        \n",
    "        return common_str\n",
    "                "
   ]
  },
  {
   "cell_type": "code",
   "execution_count": 232,
   "metadata": {},
   "outputs": [
    {
     "data": {
      "text/plain": [
       "'ab'"
      ]
     },
     "execution_count": 232,
     "metadata": {},
     "output_type": "execute_result"
    }
   ],
   "source": [
    "s = Solution()\n",
    "s.longestCommonPrefix([\"abcd\", \"abca\", \"ab\", \"abc\"])"
   ]
  },
  {
   "cell_type": "code",
   "execution_count": 233,
   "metadata": {},
   "outputs": [
    {
     "name": "stdout",
     "output_type": "stream",
     "text": [
      "0\n",
      "('a', 'a', 'a', 'a')\n",
      "1\n",
      "('b', 'b', 'b', 'b')\n",
      "2\n",
      "('c', 'c', 'c', 'b')\n"
     ]
    }
   ],
   "source": [
    "for i, letter_group in enumerate(zip(*[\"abcd\", \"abcd\", \"abc\", \"abbd\"])):\n",
    "    print(i)\n",
    "    print(letter_group)"
   ]
  },
  {
   "cell_type": "code",
   "execution_count": null,
   "metadata": {
    "collapsed": true
   },
   "outputs": [],
   "source": []
  }
 ],
 "metadata": {
  "kernelspec": {
   "display_name": "Python 3",
   "language": "python",
   "name": "python3"
  },
  "language_info": {
   "codemirror_mode": {
    "name": "ipython",
    "version": 3
   },
   "file_extension": ".py",
   "mimetype": "text/x-python",
   "name": "python",
   "nbconvert_exporter": "python",
   "pygments_lexer": "ipython3",
   "version": "3.6.0"
  }
 },
 "nbformat": 4,
 "nbformat_minor": 2
}
