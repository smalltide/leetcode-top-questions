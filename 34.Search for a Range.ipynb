{
 "cells": [
  {
   "cell_type": "code",
   "execution_count": 91,
   "metadata": {},
   "outputs": [],
   "source": [
    "class Solution(object):\n",
    "    def searchRange(self, nums, target):\n",
    "        result = [-1, -1]\n",
    "        \n",
    "        result[0] = self.find_left(nums, target)\n",
    "        result[1] = self.find_right(nums, target)\n",
    "        \n",
    "        return result\n",
    "        \n",
    "    def find_left(self, nums, target):\n",
    "        index = -1\n",
    "        start, end = 0, len(nums) - 1\n",
    "        \n",
    "        while start <= end:\n",
    "            mid = (start + end) // 2\n",
    "            if nums[mid] == target:\n",
    "                index = mid\n",
    "            \n",
    "            if nums[mid] >= target:\n",
    "                end = mid - 1\n",
    "            else:\n",
    "                start = mid + 1\n",
    "                \n",
    "        return index\n",
    "    \n",
    "    def find_right(self, nums, target):\n",
    "        index = -1\n",
    "        start, end = 0, len(nums) - 1\n",
    "        \n",
    "        while start <= end:\n",
    "            mid = (start + end) // 2\n",
    "            if nums[mid] == target:\n",
    "                index = mid\n",
    "            \n",
    "            if nums[mid] <= target:\n",
    "                start = mid + 1\n",
    "            else:\n",
    "                end = mid - 1\n",
    "                \n",
    "        return index"
   ]
  },
  {
   "cell_type": "code",
   "execution_count": 92,
   "metadata": {},
   "outputs": [
    {
     "data": {
      "text/plain": [
       "[3, 6]"
      ]
     },
     "execution_count": 92,
     "metadata": {},
     "output_type": "execute_result"
    }
   ],
   "source": [
    "s = Solution()\n",
    "s.searchRange([1,5, 7 ,8, 8,8,8,9, 10], 8)"
   ]
  },
  {
   "cell_type": "code",
   "execution_count": null,
   "metadata": {
    "collapsed": true
   },
   "outputs": [],
   "source": []
  }
 ],
 "metadata": {
  "kernelspec": {
   "display_name": "Python 3",
   "language": "python",
   "name": "python3"
  },
  "language_info": {
   "codemirror_mode": {
    "name": "ipython",
    "version": 3
   },
   "file_extension": ".py",
   "mimetype": "text/x-python",
   "name": "python",
   "nbconvert_exporter": "python",
   "pygments_lexer": "ipython3",
   "version": "3.6.0"
  }
 },
 "nbformat": 4,
 "nbformat_minor": 2
}
