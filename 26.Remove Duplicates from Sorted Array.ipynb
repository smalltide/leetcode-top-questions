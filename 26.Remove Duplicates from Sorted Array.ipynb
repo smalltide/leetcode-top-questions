{
 "cells": [
  {
   "cell_type": "code",
   "execution_count": 41,
   "metadata": {},
   "outputs": [],
   "source": [
    "class Solution(object):\n",
    "    def removeDuplicates(self, nums):\n",
    "        count = 0\n",
    "        nums_len = len(nums)\n",
    "        \n",
    "        if nums_len < 2:\n",
    "            return nums_len\n",
    "        \n",
    "        for index in range(1, nums_len):\n",
    "            if nums[index] != nums[count]:\n",
    "                count += 1\n",
    "                nums[count] = nums[index]\n",
    "        #print(nums)\n",
    "        return count + 1"
   ]
  },
  {
   "cell_type": "code",
   "execution_count": 42,
   "metadata": {},
   "outputs": [
    {
     "data": {
      "text/plain": [
       "5"
      ]
     },
     "execution_count": 42,
     "metadata": {},
     "output_type": "execute_result"
    }
   ],
   "source": [
    "s = Solution()\n",
    "s.removeDuplicates([1,1,2,2,3,3,3,4,5])"
   ]
  }
 ],
 "metadata": {
  "kernelspec": {
   "display_name": "Python 3",
   "language": "python",
   "name": "python3"
  },
  "language_info": {
   "codemirror_mode": {
    "name": "ipython",
    "version": 3
   },
   "file_extension": ".py",
   "mimetype": "text/x-python",
   "name": "python",
   "nbconvert_exporter": "python",
   "pygments_lexer": "ipython3",
   "version": "3.6.0"
  }
 },
 "nbformat": 4,
 "nbformat_minor": 2
}
