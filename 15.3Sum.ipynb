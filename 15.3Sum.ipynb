{
 "cells": [
  {
   "cell_type": "code",
   "execution_count": 437,
   "metadata": {
    "collapsed": true
   },
   "outputs": [],
   "source": [
    "class Solution(object):\n",
    "    def threeSum(self, nums):\n",
    "        results = []\n",
    "        nums_len = len(nums) \n",
    "        \n",
    "        if nums_len < 3:\n",
    "            return results\n",
    "        \n",
    "        nums = sorted(nums)\n",
    "        \n",
    "        index = 0\n",
    "        while(index < nums_len):\n",
    "            if nums[index] > 0:\n",
    "                break\n",
    "            \n",
    "            num1 = nums[index]\n",
    "            front = index + 1\n",
    "            back = nums_len - 1\n",
    "            \n",
    "            while(front < back):\n",
    "                sum = nums[index] + nums[front] + nums[back]\n",
    "                num2, num3 = nums[front], nums[back]\n",
    "               \n",
    "                if sum < 0:\n",
    "                    front += 1\n",
    "                elif sum > 0:\n",
    "                    back -=1\n",
    "                else:\n",
    "                    results.append([num1, num2, num3])\n",
    "                \n",
    "                    # Processing duplicates of Number 2\n",
    "                    while front < back and nums[front] == num2:\n",
    "                        front += 1\n",
    "                    # Processing duplicates of Number 3\n",
    "                    while front < back and nums[back] == num3:\n",
    "                        back -= 1\n",
    "                        \n",
    "            # Processing duplicates of Number 1   \n",
    "            while index < nums_len and nums[index] == num1:\n",
    "                index += 1\n",
    "                \n",
    "        return results"
   ]
  },
  {
   "cell_type": "code",
   "execution_count": 438,
   "metadata": {},
   "outputs": [
    {
     "data": {
      "text/plain": [
       "[[-1, -1, 2], [-1, 0, 1]]"
      ]
     },
     "execution_count": 438,
     "metadata": {},
     "output_type": "execute_result"
    }
   ],
   "source": [
    "s = Solution()\n",
    "r = s.threeSum([-1,0,1,2,-1,-4])\n",
    "r"
   ]
  },
  {
   "cell_type": "code",
   "execution_count": null,
   "metadata": {
    "collapsed": true
   },
   "outputs": [],
   "source": []
  }
 ],
 "metadata": {
  "kernelspec": {
   "display_name": "Python 3",
   "language": "python",
   "name": "python3"
  },
  "language_info": {
   "codemirror_mode": {
    "name": "ipython",
    "version": 3
   },
   "file_extension": ".py",
   "mimetype": "text/x-python",
   "name": "python",
   "nbconvert_exporter": "python",
   "pygments_lexer": "ipython3",
   "version": "3.6.0"
  }
 },
 "nbformat": 4,
 "nbformat_minor": 2
}
