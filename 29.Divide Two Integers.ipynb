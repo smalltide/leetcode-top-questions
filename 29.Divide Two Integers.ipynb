{
 "cells": [
  {
   "cell_type": "code",
   "execution_count": 108,
   "metadata": {},
   "outputs": [],
   "source": [
    "class Solution(object):\n",
    "    def divide(self, dividend, divisor):\n",
    "        positive = (dividend < 0) is (divisor < 0)\n",
    "        dividend, divisor = abs(dividend), abs(divisor)\n",
    "        res = 0\n",
    "        while dividend >= divisor:\n",
    "            dividend -= divisor\n",
    "            res += 1\n",
    "     \n",
    "        if not positive:\n",
    "            res = -res\n",
    "        return min(max(-2147483648, res), 2147483647) "
   ]
  },
  {
   "cell_type": "code",
   "execution_count": 109,
   "metadata": {},
   "outputs": [
    {
     "data": {
      "text/plain": [
       "333"
      ]
     },
     "execution_count": 109,
     "metadata": {},
     "output_type": "execute_result"
    }
   ],
   "source": [
    "s = Solution()\n",
    "s.divide(1000, 3)"
   ]
  },
  {
   "cell_type": "code",
   "execution_count": 110,
   "metadata": {
    "collapsed": true
   },
   "outputs": [],
   "source": [
    "class Solution2(object):\n",
    "    def divide(self, dividend, divisor):\n",
    "        positive = (dividend < 0) is (divisor < 0)\n",
    "        dividend, divisor = abs(dividend), abs(divisor)\n",
    "        res = 0\n",
    "        while dividend >= divisor:\n",
    "            div, i = divisor, 1\n",
    "            \n",
    "            while dividend >= div:\n",
    "                dividend -= div\n",
    "                res += i\n",
    "                i <<= 1\n",
    "                div <<= 1\n",
    "        \n",
    "        if not positive:\n",
    "            res = -res\n",
    "        return min(max(-2147483648, res), 2147483647) "
   ]
  },
  {
   "cell_type": "code",
   "execution_count": 111,
   "metadata": {},
   "outputs": [
    {
     "data": {
      "text/plain": [
       "333333333"
      ]
     },
     "execution_count": 111,
     "metadata": {},
     "output_type": "execute_result"
    }
   ],
   "source": [
    "s2 = Solution2()\n",
    "s2.divide(1000000000, 3)"
   ]
  },
  {
   "cell_type": "code",
   "execution_count": null,
   "metadata": {
    "collapsed": true
   },
   "outputs": [],
   "source": []
  }
 ],
 "metadata": {
  "kernelspec": {
   "display_name": "Python 3",
   "language": "python",
   "name": "python3"
  },
  "language_info": {
   "codemirror_mode": {
    "name": "ipython",
    "version": 3
   },
   "file_extension": ".py",
   "mimetype": "text/x-python",
   "name": "python",
   "nbconvert_exporter": "python",
   "pygments_lexer": "ipython3",
   "version": "3.6.0"
  }
 },
 "nbformat": 4,
 "nbformat_minor": 2
}
