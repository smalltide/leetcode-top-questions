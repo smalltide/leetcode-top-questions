{
 "cells": [
  {
   "cell_type": "code",
   "execution_count": null,
   "metadata": {
    "collapsed": true
   },
   "outputs": [],
   "source": [
    "def solution(A):\n",
    "    count = 1\n",
    "    A_len = len(A)\n",
    "    \n",
    "    A_len < 2:\n",
    "        return count\n",
    "    \n",
    "    next_index = A[0]\n",
    "    \n",
    "    for index in range(1, A_len - 1):\n",
    "        next_index = A[next_index]\n",
    "        if next_index != -1:\n",
    "            count += 1\n",
    "        else:\n",
    "            count += 1\n",
    "            return count\n",
    "    \n",
    "    return count"
   ]
  }
 ],
 "metadata": {
  "kernelspec": {
   "display_name": "Python 3",
   "language": "python",
   "name": "python3"
  },
  "language_info": {
   "codemirror_mode": {
    "name": "ipython",
    "version": 3
   },
   "file_extension": ".py",
   "mimetype": "text/x-python",
   "name": "python",
   "nbconvert_exporter": "python",
   "pygments_lexer": "ipython3",
   "version": "3.6.0"
  }
 },
 "nbformat": 4,
 "nbformat_minor": 2
}
