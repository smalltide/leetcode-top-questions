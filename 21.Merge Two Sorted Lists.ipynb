{
 "cells": [
  {
   "cell_type": "code",
   "execution_count": 1,
   "metadata": {
    "collapsed": true
   },
   "outputs": [],
   "source": [
    "class Solution(object):\n",
    "    def mergeTwoLists(self, l1, l2):\n",
    "        start = first = ListNode(0)\n",
    "        \n",
    "        while l1 or l2:\n",
    "            if l1 and l2:\n",
    "                if l1.val <= l2.val:\n",
    "                    start.next = l1\n",
    "                    l1 = l1.next\n",
    "                else:\n",
    "                    start.next = l2\n",
    "                    l2 = l2.next\n",
    "            elif l1:\n",
    "                start.next = l1\n",
    "                l1 = l1.next\n",
    "            elif l2:\n",
    "                start.next = l2\n",
    "                l2 = l2.next\n",
    "                \n",
    "            start = start.next \n",
    "            \n",
    "        return first.next"
   ]
  },
  {
   "cell_type": "code",
   "execution_count": null,
   "metadata": {
    "collapsed": true
   },
   "outputs": [],
   "source": []
  }
 ],
 "metadata": {
  "kernelspec": {
   "display_name": "Python 3",
   "language": "python",
   "name": "python3"
  },
  "language_info": {
   "codemirror_mode": {
    "name": "ipython",
    "version": 3
   },
   "file_extension": ".py",
   "mimetype": "text/x-python",
   "name": "python",
   "nbconvert_exporter": "python",
   "pygments_lexer": "ipython3",
   "version": "3.6.0"
  }
 },
 "nbformat": 4,
 "nbformat_minor": 2
}
