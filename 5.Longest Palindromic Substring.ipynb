{
 "cells": [
  {
   "cell_type": "code",
   "execution_count": 137,
   "metadata": {},
   "outputs": [],
   "source": [
    "class Solution(object):\n",
    "    def longestPalindrome(self, s): \n",
    "        result = \"\";\n",
    "        length = 0\n",
    "        \n",
    "        for index, char in enumerate(s):\n",
    "            p = index - length\n",
    "            \n",
    "            if p >= 0 and self.isPalindrome(s[p:index+1]):\n",
    "                result=s[p:index+1]\n",
    "                length += 1\n",
    "\n",
    "            elif p >= 1 and self.isPalindrome(s[p-1:index+1]):\n",
    "                result=s[p-1:index+1]\n",
    "                length += 2\n",
    "            \n",
    "            #print(s[p-1:index+1])\n",
    "            #print(s[p:index+1])\n",
    "            print(result)\n",
    "            #print(\"\")\n",
    "        \n",
    "        return result\n",
    "            \n",
    "    def isPalindrome(self, s):\n",
    "        return s == s[::-1]"
   ]
  },
  {
   "cell_type": "code",
   "execution_count": 138,
   "metadata": {},
   "outputs": [
    {
     "name": "stdout",
     "output_type": "stream",
     "text": [
      "b\n",
      "b\n",
      "cc\n",
      "bccb\n"
     ]
    },
    {
     "data": {
      "text/plain": [
       "'bccb'"
      ]
     },
     "execution_count": 138,
     "metadata": {},
     "output_type": "execute_result"
    }
   ],
   "source": [
    "a = \"bccb\"\n",
    "\n",
    "s = Solution()\n",
    "s.longestPalindrome(a)\n"
   ]
  },
  {
   "cell_type": "code",
   "execution_count": null,
   "metadata": {
    "collapsed": true
   },
   "outputs": [],
   "source": []
  }
 ],
 "metadata": {
  "kernelspec": {
   "display_name": "Python 3",
   "language": "python",
   "name": "python3"
  },
  "language_info": {
   "codemirror_mode": {
    "name": "ipython",
    "version": 3
   },
   "file_extension": ".py",
   "mimetype": "text/x-python",
   "name": "python",
   "nbconvert_exporter": "python",
   "pygments_lexer": "ipython3",
   "version": "3.6.0"
  }
 },
 "nbformat": 4,
 "nbformat_minor": 2
}
