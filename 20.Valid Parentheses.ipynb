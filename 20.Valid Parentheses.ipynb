{
 "cells": [
  {
   "cell_type": "code",
   "execution_count": 51,
   "metadata": {},
   "outputs": [],
   "source": [
    "class Solution(object):\n",
    "    def isValid(self, s):\n",
    "        bracket_stack = []\n",
    "        \n",
    "        match = {\n",
    "            \"}\":\"{\", \"]\":\"[\", \")\":\"(\"\n",
    "        }\n",
    "        left = set(\"{[(\")\n",
    "        \n",
    "        str_len = len(s)\n",
    "        if str_len % 2 != 0:\n",
    "            return False\n",
    "        \n",
    "        for bracket in s:\n",
    "            if bracket in left:\n",
    "                bracket_stack.append(bracket)\n",
    "            else:\n",
    "                if len(bracket_stack) == 0:\n",
    "                    return False\n",
    "                if bracket_stack.pop() != match[bracket]:\n",
    "                    return False\n",
    "                \n",
    "        return len(bracket_stack) == 0"
   ]
  },
  {
   "cell_type": "code",
   "execution_count": 52,
   "metadata": {},
   "outputs": [
    {
     "data": {
      "text/plain": [
       "True"
      ]
     },
     "execution_count": 52,
     "metadata": {},
     "output_type": "execute_result"
    }
   ],
   "source": [
    "s = Solution()\n",
    "s.isValid(\"[{()}]\")\n",
    "s.isValid(\"()[]{}\")"
   ]
  },
  {
   "cell_type": "code",
   "execution_count": null,
   "metadata": {
    "collapsed": true
   },
   "outputs": [],
   "source": []
  }
 ],
 "metadata": {
  "kernelspec": {
   "display_name": "Python 3",
   "language": "python",
   "name": "python3"
  },
  "language_info": {
   "codemirror_mode": {
    "name": "ipython",
    "version": 3
   },
   "file_extension": ".py",
   "mimetype": "text/x-python",
   "name": "python",
   "nbconvert_exporter": "python",
   "pygments_lexer": "ipython3",
   "version": "3.6.0"
  }
 },
 "nbformat": 4,
 "nbformat_minor": 2
}
