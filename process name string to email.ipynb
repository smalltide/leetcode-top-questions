{
 "cells": [
  {
   "cell_type": "code",
   "execution_count": 107,
   "metadata": {
    "collapsed": true
   },
   "outputs": [],
   "source": [
    "def solution(S, C):\n",
    "    names = []\n",
    "    name_dic = {}\n",
    "    result = []\n",
    "    \n",
    "    names = S.strip().replace(\"-\",\"\").lower().split(\"; \")\n",
    "    company = \"@\" + C.lower() + \".com\"\n",
    "    \n",
    "    for index, name in enumerate(names):\n",
    "        name_words = name.split(\" \")\n",
    "        if len(name_words) == 2:\n",
    "            name = name_words[1] + \"_\" + name_words[0] \n",
    "        elif len(name_words) == 3:\n",
    "            name = name_words[2] + \"_\" + name_words[0] + \"_\" + name_words[1][0]\n",
    "            \n",
    "        if name in name_dic:\n",
    "            name_dic[name] += 1\n",
    "            result.append(name + str(name_dic[name]) + company)\n",
    "        else:\n",
    "            result.append(name + company)\n",
    "            name_dic[name] = 1\n",
    "       \n",
    "    return \"; \".join(result)\n"
   ]
  },
  {
   "cell_type": "code",
   "execution_count": 108,
   "metadata": {},
   "outputs": [
    {
     "data": {
      "text/plain": [
       "'doe_john@example.com; doe_john2@example.com; parker_peter_b@example.com; watsonparker_mary_j@example.com; doe_john_e@example.com; doe_john_e2@example.com; doe_jane@example.com; parker_peter_b2@example.com; watsonparker_mary_j2@example.com'"
      ]
     },
     "execution_count": 108,
     "metadata": {},
     "output_type": "execute_result"
    }
   ],
   "source": [
    "S = \"John Doe; John Doe; Peter Benjamin Parker; Mary Jane Watson-Parker; John Elvis Doe; John Evan Doe; Jane Doe; Peter Brian Parker; Mary Jane Watson-Parker\"\n",
    "C = \"Example\"\n",
    "solution(S, C)"
   ]
  },
  {
   "cell_type": "code",
   "execution_count": null,
   "metadata": {
    "collapsed": true
   },
   "outputs": [],
   "source": []
  },
  {
   "cell_type": "code",
   "execution_count": null,
   "metadata": {
    "collapsed": true
   },
   "outputs": [],
   "source": []
  }
 ],
 "metadata": {
  "kernelspec": {
   "display_name": "Python 3",
   "language": "python",
   "name": "python3"
  },
  "language_info": {
   "codemirror_mode": {
    "name": "ipython",
    "version": 3
   },
   "file_extension": ".py",
   "mimetype": "text/x-python",
   "name": "python",
   "nbconvert_exporter": "python",
   "pygments_lexer": "ipython3",
   "version": "3.6.0"
  }
 },
 "nbformat": 4,
 "nbformat_minor": 2
}
